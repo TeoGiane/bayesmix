{
 "cells": [
  {
   "cell_type": "code",
   "execution_count": null,
   "id": "e88a1fbb",
   "metadata": {},
   "outputs": [],
   "source": [
    "import matplotlib.pyplot as plt\n",
    "import numpy as np\n",
    "\n",
    "np.random.seed(0)\n",
    "\n",
    "from bayesmixpy import build_bayesmix, run_mcmc"
   ]
  },
  {
   "cell_type": "code",
   "execution_count": null,
   "id": "3ed559f5",
   "metadata": {},
   "outputs": [],
   "source": [
    "build_bayesmix(4)"
   ]
  },
  {
   "cell_type": "code",
   "execution_count": null,
   "id": "2ae21d89",
   "metadata": {},
   "outputs": [],
   "source": [
    "import os\n",
    "\n",
    "# Set the correct environment variable from the output of \n",
    "# \"build_bayesmix\"\n",
    "os.environ[\"BAYESMIX_EXE\"] = \"../../build/run_mcmc\""
   ]
  },
  {
   "cell_type": "markdown",
   "id": "e2af3dc1",
   "metadata": {},
   "source": [
    "# Univariate Example"
   ]
  },
  {
   "cell_type": "code",
   "execution_count": null,
   "id": "e085bea8",
   "metadata": {},
   "outputs": [],
   "source": [
    "data = np.concatenate([\n",
    "    np.random.normal(loc=3, scale=1, size=100),\n",
    "    np.random.normal(loc=-3, scale=1, size=100),\n",
    "])\n",
    "\n",
    "dp_params = \"\"\"\n",
    "fixed_value {\n",
    "    totalmass: 1.0\n",
    "}\n",
    "\"\"\"\n",
    "\n",
    "g0_params = \"\"\"\n",
    "fixed_values {\n",
    "    mean: 0.0\n",
    "    var_scaling: 0.1\n",
    "    shape: 2.0\n",
    "    scale: 2.0\n",
    "}\n",
    "\"\"\"\n",
    "\n",
    "algo_params = \"\"\"\n",
    "    algo_id: \"Neal2\"\n",
    "    rng_seed: 20201124\n",
    "    iterations: 2000\n",
    "    burnin: 1000\n",
    "    init_num_clusters: 3\n",
    "\"\"\""
   ]
  },
  {
   "cell_type": "code",
   "execution_count": null,
   "id": "b3a36b12",
   "metadata": {},
   "outputs": [],
   "source": [
    "dens_grid = np.linspace(-6, 6, 1000)\n",
    "\n",
    "log_dens, numcluschain, cluschain, bestclus = run_mcmc(\n",
    "    \"NNIG\", \"DP\", data, g0_params, dp_params, algo_params, \n",
    "    dens_grid=dens_grid, return_clusters=True, return_num_clusters=True,\n",
    "    return_best_clus=True)"
   ]
  },
  {
   "cell_type": "code",
   "execution_count": null,
   "id": "37f942ee",
   "metadata": {},
   "outputs": [],
   "source": [
    "import matplotlib.pyplot as plt\n",
    "\n",
    "fig, axes = plt.subplots(nrows=1, ncols=3, figsize=(15, 5))\n",
    "\n",
    "axes[0].hist(data, alpha=0.2, density=True)\n",
    "for c in np.unique(bestclus):\n",
    "    data_in_clus = data[bestclus == c]\n",
    "    axes[0].scatter(data_in_clus, np.zeros_like(data_in_clus) + 0.01, \n",
    "                    label=\"Cluster {0}\".format(int(c) + 1))\n",
    "axes[0].plot(dens_grid, np.exp(np.mean(log_dens, axis=0)), color=\"red\", lw=3)\n",
    "axes[0].legend(fontsize=12, ncol=2, loc=1)\n",
    "axes[0].set_ylim(0, 0.3)\n",
    "\n",
    "\n",
    "x, y = np.unique(numcluschain, return_counts=True)\n",
    "axes[1].bar(x, y / y.sum())\n",
    "axes[1].set_xticks(x)\n",
    "\n",
    "axes[2].vlines(np.arange(len(numcluschain)), numcluschain-0.3, numcluschain+0.3)\n",
    "plt.show()"
   ]
  },
  {
   "cell_type": "markdown",
   "id": "9006adc8",
   "metadata": {},
   "source": [
    "# Bivariate Example"
   ]
  },
  {
   "cell_type": "code",
   "execution_count": null,
   "id": "a28e1418",
   "metadata": {},
   "outputs": [],
   "source": [
    "g0_params = \"\"\"\n",
    "fixed_values {\n",
    "    mean {\n",
    "        size: 2\n",
    "        data: [3.484, 3.487]\n",
    "    }\n",
    "    var_scaling: 0.01\n",
    "    deg_free: 5\n",
    "    scale {\n",
    "        rows: 2\n",
    "        cols: 2\n",
    "        data: [1.0, 0.0, 0.0, 1.0]\n",
    "        rowmajor: false\n",
    "    }\n",
    "}\n",
    "\"\"\""
   ]
  },
  {
   "cell_type": "code",
   "execution_count": null,
   "id": "e0fb08d1",
   "metadata": {},
   "outputs": [],
   "source": [
    "data = np.loadtxt(\"../../resources/datasets/faithful.csv\", delimiter=',')"
   ]
  },
  {
   "cell_type": "code",
   "execution_count": null,
   "id": "50a24b92",
   "metadata": {},
   "outputs": [],
   "source": [
    "xgrid = np.linspace(0, 6, 50)\n",
    "xgrid, ygrid = np.meshgrid(xgrid, xgrid)\n",
    "dens_grid = np.hstack([xgrid.reshape(-1, 1), ygrid.reshape(-1, 1)])\n",
    "\n",
    "log_dens, numcluschain, _, best_clus_dp = run_mcmc(\n",
    "    \"NNW\", \"DP\", data, g0_params, dp_params, algo_params, \n",
    "    dens_grid, return_clusters=False, return_num_clusters=True,\n",
    "    return_best_clus=True)"
   ]
  },
  {
   "cell_type": "code",
   "execution_count": null,
   "id": "6041208a",
   "metadata": {},
   "outputs": [],
   "source": [
    "fig, axes = plt.subplots(nrows=1, ncols=3, figsize=(15, 5))\n",
    "\n",
    "mean_dens_dp = np.mean(log_dens, axis=0)\n",
    "\n",
    "axes[0].contour(xgrid, ygrid, mean_dens_dp.reshape(xgrid.shape))\n",
    "for c in np.unique(best_clus_dp):\n",
    "    currdata = data[best_clus_dp == c, :]\n",
    "    axes[0].scatter(currdata[:, 0], currdata[:, 1])\n",
    "    \n",
    "x, y = np.unique(numcluschain, return_counts=True)\n",
    "axes[1].bar(x, y / y.sum())\n",
    "axes[1].set_xticks(x)\n",
    "\n",
    "axes[2].vlines(np.arange(len(numcluschain)), numcluschain-0.3, numcluschain+0.3)\n",
    "plt.show()"
   ]
  },
  {
   "cell_type": "code",
   "execution_count": null,
   "id": "b9843d96",
   "metadata": {},
   "outputs": [],
   "source": []
  }
 ],
 "metadata": {
  "kernelspec": {
   "display_name": "Python 3 (ipykernel)",
   "language": "python",
   "name": "python3"
  },
  "language_info": {
   "codemirror_mode": {
    "name": "ipython",
    "version": 3
   },
   "file_extension": ".py",
   "mimetype": "text/x-python",
   "name": "python",
   "nbconvert_exporter": "python",
   "pygments_lexer": "ipython3",
   "version": "3.10.4"
  }
 },
 "nbformat": 4,
 "nbformat_minor": 5
}
