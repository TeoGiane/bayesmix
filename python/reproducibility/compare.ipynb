{
 "cells": [
  {
   "cell_type": "markdown",
   "id": "corrected-roulette",
   "metadata": {},
   "source": [
    "# Estimates with `bayesmix` package"
   ]
  },
  {
   "cell_type": "code",
   "execution_count": null,
   "id": "textile-watts",
   "metadata": {},
   "outputs": [],
   "source": [
    "# Import the library\n",
    "from bayesmixpy import run_mcmc, build_bayesmix\n",
    "\n",
    "import arviz as az\n",
    "from contextlib import redirect_stdout\n",
    "import matplotlib.pyplot as plt\n",
    "import numpy as np\n",
    "import pandas as pd\n",
    "from scipy.special import logsumexp\n",
    "\n",
    "import os\n",
    "os.environ[\"BAYESMIX_EXE\"] = \"../../build/run_mcmc\""
   ]
  },
  {
   "cell_type": "code",
   "execution_count": null,
   "id": "stuck-commission",
   "metadata": {},
   "outputs": [],
   "source": [
    "# Build the library\n",
    "build_bayesmix(4)"
   ]
  },
  {
   "cell_type": "code",
   "execution_count": null,
   "id": "organizational-darkness",
   "metadata": {},
   "outputs": [],
   "source": [
    "# Create logs and CSV folders\n",
    "log_fold = 'log'\n",
    "csv_fold = 'csv'\n",
    "png_fold = 'png'\n",
    "os.makedirs(log_fold, exist_ok=True)\n",
    "os.makedirs(csv_fold, exist_ok=True)\n",
    "os.makedirs(png_fold, exist_ok=True)"
   ]
  },
  {
   "cell_type": "code",
   "execution_count": null,
   "id": "separate-biology",
   "metadata": {},
   "outputs": [],
   "source": [
    "# Write bayesmix algorithm names and config files\n",
    "algorithms = \"Neal2 Neal3 Neal8 SplitMerge\".split()\n",
    "algo_settings = \"\"\"\n",
    "algo_id: \"{}\"\n",
    "rng_seed: 20201124\n",
    "iterations: 5000\n",
    "burnin: 1000\n",
    "init_num_clusters: 3\n",
    "neal8_n_aux: 3\n",
    "splitmerge_n_restr_gs_updates: 5\n",
    "splitmerge_n_mh_updates: 1\n",
    "splitmerge_n_full_gs_updates: 1\n",
    "\"\"\"\n",
    "py_prior = \"\"\"\n",
    "fixed_values {\n",
    "  strength: 1.0\n",
    "  discount: 0.1\n",
    "}\n",
    "\"\"\""
   ]
  },
  {
   "cell_type": "code",
   "execution_count": null,
   "id": "generic-brain",
   "metadata": {},
   "outputs": [],
   "source": [
    "# Initialize containers\n",
    "datasets = ['galaxy', 'faithful', 'highdim']\n",
    "bnpmix_algos = ('MAR', 'ICS')\n",
    "\n",
    "bayesmix_densities = {}\n",
    "bayesmix_num_clust = {}\n",
    "for data in datasets:\n",
    "    bayesmix_densities[data] = {}\n",
    "    bayesmix_num_clust[data] = {}"
   ]
  },
  {
   "cell_type": "markdown",
   "id": "neutral-dependence",
   "metadata": {},
   "source": [
    "## `galaxy` dataset"
   ]
  },
  {
   "cell_type": "code",
   "execution_count": null,
   "id": "asian-coverage",
   "metadata": {},
   "outputs": [],
   "source": [
    "# Read data\n",
    "data_folder = '../../resources/datasets/'\n",
    "galaxy = np.loadtxt(data_folder + 'galaxy.csv', delimiter=',')"
   ]
  },
  {
   "cell_type": "code",
   "execution_count": null,
   "id": "logical-victoria",
   "metadata": {},
   "outputs": [],
   "source": [
    "# Write NGG hierarchy prior config file\n",
    "g0_galaxy = \"\"\"\n",
    "ngg_prior {\n",
    "  mean_prior {\n",
    "    mean: 25.0\n",
    "    var: 4.0\n",
    "  }\n",
    "  var_scaling_prior {\n",
    "    shape: 0.4\n",
    "    rate: 0.2\n",
    "  }\n",
    "  shape: 4.0\n",
    "  scale_prior {\n",
    "    shape: 4.0\n",
    "    rate: 2.0\n",
    "  }\n",
    "}\n",
    "\"\"\""
   ]
  },
  {
   "cell_type": "code",
   "execution_count": null,
   "id": "authorized-cycling",
   "metadata": {},
   "outputs": [],
   "source": [
    "# Run algorithms\n",
    "for algo in algorithms:\n",
    "    log_file = os.path.join(log_fold, 'bayesmix_galaxy_{}.log'.format(algo))\n",
    "    with open(log_file, 'w') as f:\n",
    "        with redirect_stdout(f):\n",
    "            out = run_mcmc(\"NNIG\", \"PY\", galaxy, g0_galaxy, py_prior,\n",
    "                           algo_settings.format(algo), galaxy,\n",
    "                           return_num_clusters=True,  # out [1]\n",
    "                           return_clusters=False, return_best_clus=False)\n",
    "    bayesmix_densities['galaxy'][algo] = out[0]\n",
    "    bayesmix_num_clust['galaxy'][algo] = out[1]"
   ]
  },
  {
   "cell_type": "markdown",
   "id": "obvious-stock",
   "metadata": {},
   "source": [
    "## `faithful` dataset"
   ]
  },
  {
   "cell_type": "code",
   "execution_count": null,
   "id": "acoustic-waste",
   "metadata": {},
   "outputs": [],
   "source": [
    "# Read data\n",
    "data_folder = '../../resources/datasets/'\n",
    "faithful = np.loadtxt(data_folder + 'faithful.csv', delimiter=',')"
   ]
  },
  {
   "cell_type": "code",
   "execution_count": null,
   "id": "quick-watershed",
   "metadata": {},
   "outputs": [],
   "source": [
    "# Write NGIW hierarchy prior config file\n",
    "g0_faithful = \"\"\"\n",
    "ngiw_prior {\n",
    "  mean_prior {\n",
    "    mean {\n",
    "      size: 2\n",
    "      data: 3.0\n",
    "      data: 3.0\n",
    "    }\n",
    "    var {\n",
    "      rows: 2\n",
    "      cols: 2\n",
    "      data: 0.25\n",
    "      data: 0.0\n",
    "      data: 0.0\n",
    "      data: 0.25\n",
    "    }\n",
    "  }\n",
    "  var_scaling_prior {\n",
    "    shape: 0.4\n",
    "    rate: 0.2\n",
    "  }\n",
    "  deg_free: 4.0\n",
    "  scale_prior {\n",
    "    deg_free: 4.0\n",
    "    scale {\n",
    "      rows: 2\n",
    "      cols: 2\n",
    "      data: 4.0\n",
    "      data: 0.0\n",
    "      data: 0.0\n",
    "      data: 4.0\n",
    "    }\n",
    "  }\n",
    "}\n",
    "\"\"\""
   ]
  },
  {
   "cell_type": "code",
   "execution_count": null,
   "id": "premier-speed",
   "metadata": {},
   "outputs": [],
   "source": [
    "# Run algorithms\n",
    "for algo in algorithms:\n",
    "    log_file = os.path.join(log_fold, 'bayesmix_faithful_{}.log'.format(algo))\n",
    "    with open(log_file, 'w') as f:\n",
    "        with redirect_stdout(f):\n",
    "            out = run_mcmc(\"NNW\", \"PY\", faithful, g0_faithful, py_prior,\n",
    "                           algo_settings.format(algo), faithful,\n",
    "                           return_num_clusters=True,  # out [1]\n",
    "                           return_clusters=False, return_best_clus=False)\n",
    "    bayesmix_densities['faithful'][algo] = out[0]\n",
    "    bayesmix_num_clust['faithful'][algo] = out[1]"
   ]
  },
  {
   "cell_type": "markdown",
   "id": "sixth-management",
   "metadata": {},
   "source": [
    "## Synthesized `highdim` dataset (dimension 4)\n",
    "Note: this requires that the `generate_high_dim_data.ipynb` notebook has been run beforehand."
   ]
  },
  {
   "cell_type": "code",
   "execution_count": null,
   "id": "different-amazon",
   "metadata": {},
   "outputs": [],
   "source": [
    "# Read data\n",
    "highdim = np.loadtxt(csv_fold + '/highdim.csv', delimiter=',')"
   ]
  },
  {
   "cell_type": "code",
   "execution_count": null,
   "id": "caring-oregon",
   "metadata": {},
   "outputs": [],
   "source": [
    "# Write NGIW hierarchy prior config file\n",
    "g0_highdim = \"\"\"\n",
    "ngiw_prior {\n",
    "  mean_prior {\n",
    "    mean {\n",
    "      size: 4\n",
    "      data: 0.0\n",
    "      data: 0.0\n",
    "      data: 0.0\n",
    "      data: 0.0\n",
    "    }\n",
    "    var {\n",
    "      rows: 4\n",
    "      cols: 4\n",
    "      data: 0.1\n",
    "      data: 0.0\n",
    "      data: 0.0\n",
    "      data: 0.0\n",
    "      data: 0.0\n",
    "      data: 0.1\n",
    "      data: 0.0\n",
    "      data: 0.0\n",
    "      data: 0.0\n",
    "      data: 0.0\n",
    "      data: 0.1\n",
    "      data: 0.0\n",
    "      data: 0.0\n",
    "      data: 0.0\n",
    "      data: 0.0\n",
    "      data: 0.1\n",
    "    }\n",
    "  }\n",
    "  var_scaling_prior {\n",
    "    shape: 0.2\n",
    "    rate: 2.0\n",
    "  }\n",
    "  deg_free: 10.0\n",
    "  scale_prior {\n",
    "    deg_free: 10.0\n",
    "    scale {\n",
    "      rows: 4\n",
    "      cols: 4\n",
    "      data: 0.1\n",
    "      data: 0.0\n",
    "      data: 0.0\n",
    "      data: 0.0\n",
    "      data: 0.0\n",
    "      data: 0.1\n",
    "      data: 0.0\n",
    "      data: 0.0\n",
    "      data: 0.0\n",
    "      data: 0.0\n",
    "      data: 0.1\n",
    "      data: 0.0\n",
    "      data: 0.0\n",
    "      data: 0.0\n",
    "      data: 0.0\n",
    "      data: 0.1\n",
    "    }\n",
    "  }\n",
    "}\n",
    "\"\"\""
   ]
  },
  {
   "cell_type": "code",
   "execution_count": null,
   "id": "charged-competition",
   "metadata": {},
   "outputs": [],
   "source": [
    "# Run algorithms\n",
    "for algo in algorithms:\n",
    "    log_file = os.path.join(log_fold, 'bayesmix_highdim_{}.log'.format(algo))\n",
    "    with open(log_file, 'w') as f:\n",
    "        with redirect_stdout(f):\n",
    "            out = run_mcmc(\"NNW\", \"PY\", highdim, g0_highdim, py_prior,\n",
    "                           algo_settings.format(algo), highdim,\n",
    "                           return_num_clusters=True,  # out [1]\n",
    "                           return_clusters=False, return_best_clus=False)\n",
    "    bayesmix_densities['highdim'][algo] = out[0]\n",
    "    bayesmix_num_clust['highdim'][algo] = out[1]"
   ]
  },
  {
   "cell_type": "markdown",
   "id": "internal-gauge",
   "metadata": {},
   "source": [
    "# Comparison: BNPmix vs bayesmix\n",
    "Note: this requires that the `run_bnpmix.ipynb` R notebook has been run beforehand."
   ]
  },
  {
   "cell_type": "markdown",
   "id": "martial-generation",
   "metadata": {},
   "source": [
    "## Effective Sample Sizes (ESS) comparison"
   ]
  },
  {
   "cell_type": "code",
   "execution_count": null,
   "id": "lesbian-decimal",
   "metadata": {},
   "outputs": [],
   "source": [
    "# Initialize DataFrame to collect ESS\n",
    "ESS = pd.DataFrame(columns=datasets)"
   ]
  },
  {
   "cell_type": "code",
   "execution_count": null,
   "id": "seventh-syntax",
   "metadata": {},
   "outputs": [],
   "source": [
    "# Collect BNPmix ESS\n",
    "for data in datasets:\n",
    "    for algo in bnpmix_algos:\n",
    "        csv_file = os.path.join(csv_fold, 'bnpmix_{}_nclu_{}.csv'.format(data,\n",
    "                                                                         algo))\n",
    "        n_clust = np.genfromtxt(csv_file)\n",
    "        ESS.at['bnpmix_'+algo, data] = az.ess(n_clust)"
   ]
  },
  {
   "cell_type": "code",
   "execution_count": null,
   "id": "figured-conclusion",
   "metadata": {},
   "outputs": [],
   "source": [
    "# Collect bayesmix ESS\n",
    "for data in datasets:\n",
    "    for algo in algorithms:\n",
    "        ESS.at['bayesmix_'+algo, data] = az.ess(bayesmix_num_clust[data][algo])"
   ]
  },
  {
   "cell_type": "markdown",
   "id": "naked-beginning",
   "metadata": {},
   "source": [
    "## Time comparisons"
   ]
  },
  {
   "cell_type": "code",
   "execution_count": null,
   "id": "existing-spectacular",
   "metadata": {},
   "outputs": [],
   "source": [
    "# Initialize DataFrame to collect times\n",
    "times = pd.DataFrame(columns=datasets)"
   ]
  },
  {
   "cell_type": "code",
   "execution_count": null,
   "id": "polar-selling",
   "metadata": {},
   "outputs": [],
   "source": [
    "# Parse BNPmix execution times\n",
    "for data in datasets:\n",
    "    for algo in bnpmix_algos:\n",
    "        log_file = os.path.join(log_fold, 'bnpmix_{}_{}.log'.format(data,\n",
    "                                                                    algo))\n",
    "        with open(log_file, 'r') as f:\n",
    "            for line in f:\n",
    "                if \"Estimation done in \" in line:\n",
    "                    time = line.split()[3]\n",
    "                    times.at['bnpmix_'+algo, data] = float(time)\n",
    "                    break"
   ]
  },
  {
   "cell_type": "code",
   "execution_count": null,
   "id": "retired-expression",
   "metadata": {},
   "outputs": [],
   "source": [
    "# Parse bayesmix execution times\n",
    "for data in datasets:\n",
    "    for algo in algorithms:\n",
    "        log_file = os.path.join(log_fold, 'bayesmix_{}_{}.log'.format(data,\n",
    "                                                                      algo))\n",
    "        with open(log_file, 'r') as f:\n",
    "            for line in f:\n",
    "                if \"100%\" in line and \"Done\" in line:\n",
    "                    time = line.split()[2].rstrip(\"s\")\n",
    "                    times.at['bayesmix_'+algo, data] = float(time)\n",
    "                    break"
   ]
  },
  {
   "cell_type": "markdown",
   "id": "nuclear-finnish",
   "metadata": {},
   "source": [
    "## ESS-time ratio"
   ]
  },
  {
   "cell_type": "code",
   "execution_count": null,
   "id": "written-geneva",
   "metadata": {},
   "outputs": [],
   "source": [
    "# Compute ratios\n",
    "ratios = pd.DataFrame()\n",
    "for col in ESS.columns:\n",
    "    ratios[col] = ESS[col] / times[col]"
   ]
  },
  {
   "cell_type": "markdown",
   "id": "sound-dominant",
   "metadata": {},
   "source": [
    "## Display full metrics table"
   ]
  },
  {
   "cell_type": "code",
   "execution_count": null,
   "id": "constitutional-fighter",
   "metadata": {},
   "outputs": [],
   "source": [
    "metric_names = 'ESS times ratios'.split()\n",
    "for data in datasets:\n",
    "    df_all = pd.DataFrame(index=ESS.index, columns=metric_names)\n",
    "    for metric in metric_names:\n",
    "        df = globals()[metric]\n",
    "        df_all[metric] = np.round(df[data].astype(float), 3)\n",
    "    print(data, \":\\n\", df_all, \"\\n\", sep=\"\")"
   ]
  },
  {
   "cell_type": "markdown",
   "id": "proof-madison",
   "metadata": {},
   "source": [
    "## Autocorrelation of number of clusters"
   ]
  },
  {
   "cell_type": "code",
   "execution_count": null,
   "id": "minor-recommendation",
   "metadata": {},
   "outputs": [],
   "source": [
    "# Autocorrelation plots for BNPmix\n",
    "size = 20\n",
    "for data in datasets:\n",
    "    for algo in bnpmix_algos:\n",
    "        csv_file = os.path.join(csv_fold, 'bnpmix_{}_nclu_{}.csv'.format(data,\n",
    "                                                                         algo))\n",
    "        n_clust = np.genfromtxt(csv_file)\n",
    "        ax = az.plot_autocorr(n_clust)\n",
    "        ax.set_xlabel(\"lag\", size=size)\n",
    "        ax.set_ylabel(\"autocorrelation\", size=size)\n",
    "        ax.set_title(\"BNPmix {} {}\".format(data,algo), size=size)\n",
    "        plt.savefig(\n",
    "            os.path.join(png_fold, 'bnpmix_{}_{}.png'.format(data, algo)),\n",
    "            dpi=300, bbox_inches='tight')"
   ]
  },
  {
   "cell_type": "code",
   "execution_count": null,
   "id": "german-quest",
   "metadata": {},
   "outputs": [],
   "source": [
    "# Autocorrelation plots for bayesmix\n",
    "size = 20\n",
    "for data in datasets:\n",
    "    for algo in algorithms:\n",
    "        ax = az.plot_autocorr(bayesmix_num_clust[data][algo])\n",
    "        ax.set_xlabel(\"lag\", size=size)\n",
    "        ax.set_ylabel(\"autocorrelation\", size=size)\n",
    "        ax.set_title(\"bayesmix {} {}\".format(data,algo), size=size)\n",
    "        plt.savefig(\n",
    "            os.path.join(png_fold, 'bayesmix_{}_{}.png'.format(data, algo)),\n",
    "            dpi=300, bbox_inches='tight')"
   ]
  }
 ],
 "metadata": {
  "kernelspec": {
   "display_name": "Python 3 (ipykernel)",
   "language": "python",
   "name": "python3"
  },
  "language_info": {
   "codemirror_mode": {
    "name": "ipython",
    "version": 3
   },
   "file_extension": ".py",
   "mimetype": "text/x-python",
   "name": "python",
   "nbconvert_exporter": "python",
   "pygments_lexer": "ipython3",
   "version": "3.10.4"
  }
 },
 "nbformat": 4,
 "nbformat_minor": 5
}
